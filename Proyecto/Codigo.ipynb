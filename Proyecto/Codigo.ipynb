{
 "cells": [
  {
   "cell_type": "code",
   "execution_count": 44,
   "metadata": {},
   "outputs": [],
   "source": [
    "import numpy as np\n",
    "import pandas as pd\n",
    "from pandas.io.parsers import read_csv\n",
    "import matplotlib.pyplot as plt\n",
    "from sklearn.model_selection import train_test_split\n",
    "import scipy.optimize as opt\n",
    "from scipy.optimize import minimize\n",
    "from sklearn.svm import SVC\n"
   ]
  },
  {
   "cell_type": "code",
   "execution_count": 45,
   "metadata": {},
   "outputs": [],
   "source": [
    " #Leemos el archivo csv\n",
    "data=pd.read_csv(\"heart.csv\")\n",
    "#Parseamos las columnas que no tengan enteros a enteros\n",
    "data.Sex=[1 if each == \"M\" else 0 for each in data.Sex]\n",
    "data.ExerciseAngina=[1 if each == \"N\" else 0 for each in data.ExerciseAngina]\n",
    "data.ChestPainType=[0 if each == \"ASY\"  else 1 if each==\"NAP\" else 2  for each in data.ChestPainType]\n",
    "data.RestingECG=[0 if each == \"Normal\"  else 1 if each==\"LVH\" else 2  for each in data.RestingECG]\n",
    "data.ST_Slope=[0 if each == \"Flat\"  else 1 if each==\"Up\" else 2  for each in data.ST_Slope]\n",
    "#guardamos data\n",
    "valores=data.values\n",
    "#la columna Y tendra los ataques al corazon\n",
    "Y=data.HeartDisease.values\n",
    "#Borramos la columna para asignar a X el resto de columnas\n",
    "data.drop(['HeartDisease'], axis=1,inplace=True)\n",
    "X=data.values"
   ]
  },
  {
   "cell_type": "code",
   "execution_count": 66,
   "metadata": {},
   "outputs": [
    {
     "name": "stdout",
     "output_type": "stream",
     "text": [
      "68.48 %\n"
     ]
    },
    {
     "data": {
      "text/plain": [
       "68.47826086956522"
      ]
     },
     "execution_count": 66,
     "metadata": {},
     "output_type": "execute_result"
    }
   ],
   "source": [
    "\n",
    "def sigmoid(x):\n",
    "    s = 1.0 / (1.0 + np.exp(-x))\n",
    "    return s\n",
    "def cost(theta, X, Y,landa):\n",
    "    H = sigmoid(np.matmul(X, theta))\n",
    "    thetaAux=theta[1:]\n",
    "    return (-1/(len(X))) * ( np.dot(Y, np.log(H)) + np.dot(1-Y, np.log(1-H))) + (landa/2*len(X))*sum(thetaAux*thetaAux)\n",
    "\n",
    "\n",
    "\n",
    "    \n",
    "def gradient(theta, X, Y,landa):\n",
    "    H=sigmoid(np.matmul(X, theta))\n",
    "    return (1/len(Y)) * np.matmul((X.T), H-Y) + (landa/len(X))*theta\n",
    "\n",
    "def evaluaRl(thetas, X, y):\n",
    "    thetasMat = np.matrix(thetas)   \n",
    "    z = np.dot(thetasMat,X.transpose())\n",
    "    resultados = sigmoid(z)\n",
    "    resultados[resultados >= 0.5] = 1\n",
    "    resultados[resultados < 0.5] = 0\n",
    "    admitidosPred = sum(np.where(resultados == y)).shape[0]\n",
    "    return (admitidosPred / len(y)) * 100\n",
    "\n",
    "def RegresionLogistica():\n",
    "    #Leemos el archivo csv\n",
    "    data=pd.read_csv(\"heart.csv\")\n",
    "    #Parseamos las columnas que no tengan enteros a enteros\n",
    "    data.Sex=[1 if each == \"M\" else 0 for each in data.Sex]\n",
    "    data.ExerciseAngina=[1 if each == \"N\" else 0 for each in data.ExerciseAngina]\n",
    "    data.ChestPainType=[0 if each == \"ASY\"  else 1 if each==\"NAP\" else 2  for each in data.ChestPainType]\n",
    "    data.RestingECG=[0 if each == \"Normal\"  else 1 if each==\"LVH\" else 2  for each in data.RestingECG]\n",
    "    data.ST_Slope=[0 if each == \"Flat\"  else 1 if each==\"Up\" else 2  for each in data.ST_Slope]\n",
    "    #guardamos data\n",
    "    valores=data.values\n",
    "    #la columna Y tendra los ataques al corazon\n",
    "    Y=data.HeartDisease.values\n",
    "    #Borramos la columna para asignar a X el resto de columnas\n",
    "    data.drop(['HeartDisease'], axis=1,inplace=True)\n",
    "    X=data.values\n",
    "    \n",
    "    landa=1.0\n",
    "    precision = 0.0\n",
    "    #Vamos a separar los ejemplos en 80% para entrenar y un 20% para evaluar  \n",
    "    X =  np.insert (X ,0, 1, axis = 1)\n",
    "    x_train, x_test, y_train, y_test = train_test_split(X,Y,test_size = 0.2,shuffle = True)\n",
    "    theta = np.zeros((X.shape[1],1))\n",
    "    result = opt.fmin_tnc(func=cost,x0=theta ,fprime=gradient,args =(x_train, y_train,landa))\n",
    "    theta = result[0]\n",
    "       \n",
    "    precision = evaluaRl(theta,x_test,y_test)\n",
    "    print(format((precision), '.2f' ),\"%\")\n",
    "    return precision\n",
    "    \n",
    "RegresionLogistica()"
   ]
  },
  {
   "cell_type": "code",
   "execution_count": 47,
   "metadata": {},
   "outputs": [
    {
     "name": "stderr",
     "output_type": "stream",
     "text": [
      "<ipython-input-47-1611efdb4f72>:2: RuntimeWarning: overflow encountered in exp\n",
      "  return 1/(1+np.exp(-(values)))\n"
     ]
    },
    {
     "name": "stdout",
     "output_type": "stream",
     "text": [
      "85.81 %\n"
     ]
    },
    {
     "data": {
      "text/plain": [
       "85.8085808580858"
      ]
     },
     "execution_count": 47,
     "metadata": {},
     "output_type": "execute_result"
    }
   ],
   "source": [
    "\n",
    "def sigmoide(values): \n",
    "    return 1/(1+np.exp(-(values)))\n",
    "\n",
    "\n",
    "def dSigmoide(values): \n",
    "    return sigmoide(values) * (1 - sigmoide(values))\n",
    "\n",
    "\n",
    "def forward_propagate(X, theta1, theta2):     \n",
    "    a = np.insert(X, 0, 1, axis=1) \n",
    "    aa = np.dot(a,theta1.T)\n",
    "    afs = sigmoide(aa)\n",
    "    aadd = np.insert(afs, 0, 1, axis = 1)\n",
    "    a2dot = np.dot(aadd,theta2.T)\n",
    "    a2fs = sigmoide(a2dot) \n",
    "    return a2fs\n",
    "\n",
    "#Inicializa un vector de thetas para una capa con L_in entradas y L_out salidas entre un rango range\n",
    "def randomizeThetas(L_in, L_out, range = 0.12):\n",
    "    # Inicializamos los vectores de theta\n",
    "    W = np.zeros((L_out, 1 + L_in))\n",
    "    # Randomizamos el vector entre -rango y rango\n",
    "    W = np.random.rand(L_out, 1 + L_in) * (2 * range) - range\n",
    "    return W\n",
    "\n",
    "def coste(theta1, theta2, X, y):\n",
    "    J = np.sum(-y * np.log(forward_propagate(X, theta1, theta2))-(1-y)*np.log(1-forward_propagate(X, theta1, theta2)))/len(y)\n",
    "    return J\n",
    "\n",
    "def costeReg(theta1, theta2, X, y, reg):\n",
    "    thetaAux1 = np.delete(theta1, 0, 1)\n",
    "    thetaAux2 = np.delete(theta2, 0, 1)\n",
    "    regularized = (reg / (2*len(X))) * (sum(sum(np.power(thetaAux1, 2))) + sum(sum(np.power(thetaAux2, 2))))\n",
    "    return coste(theta1, theta2, X, y) + regularized \n",
    "\n",
    "def gradiente(theta1, theta2, X, y, reg):\n",
    "    \n",
    "    a1 = np.insert(X, 0, 1, axis=1) \n",
    "    z2 = np.dot(a1, theta1.T)\n",
    "\n",
    "    a2 = sigmoide(z2)\n",
    "    a2 = np.insert(a2, 0, 1, axis = 1)\n",
    "    z3 = np.dot(a2,theta2.T)\n",
    "    a3 = sigmoide(z3)\n",
    "    \n",
    "    d3 = np.max(a3) - y\n",
    "    d2 = np.delete(np.dot(d3, theta2), 0, 1) * dSigmoide(z2)\n",
    "\n",
    "    A1 = np.dot(d2.T, a1)\n",
    "    A2 = np.dot(d3.T, a2)\n",
    "    \n",
    "    A1 = A1 / len(X)\n",
    "    A2 = A2 / len(X)\n",
    "    return A1, A2\n",
    "\n",
    "def gradienteReg(theta1, theta2, X, y, reg):\n",
    "    A1, A2 = gradiente(theta1, theta2, X ,y, reg)\n",
    "    reg1 = (reg / len(y)) * theta1\n",
    "    reg2 = (reg / len(y)) * theta2\n",
    "    \n",
    "    reg1[:,:1]=0\n",
    "    reg2[:,:1]=0\n",
    "    \n",
    "    A1reg = A1.copy()\n",
    "    A2reg = A2.copy()\n",
    "    A1reg += reg1\n",
    "    A2reg += reg2\n",
    "    \n",
    "    return A1reg,A2reg\n",
    "     \n",
    "\n",
    "def backprop(params_rn, num_entradas, num_ocultas, num_etiquetas, X, y, reg):\n",
    "    thetaAux1 = np.reshape(params_rn[:num_ocultas * (num_entradas + 1)], (num_ocultas, (num_entradas + 1)))\n",
    "    thetaAux2 = np.reshape(params_rn[num_ocultas * (num_entradas + 1):], (num_etiquetas, (num_ocultas + 1)))\n",
    "    costt = costeReg(thetaAux1, thetaAux2, X, y, reg)\n",
    "    gradd1 ,gradd2 = gradienteReg(thetaAux1, thetaAux2, X, y, reg)\n",
    "    gradd = np.concatenate((np.ravel(gradd1),np.ravel(gradd2)))\n",
    "    return costt\n",
    "\n",
    "\n",
    "\n",
    "def unroll_thetas(params, n_entries, n_hidden, n_et):\n",
    "    theta1 = np.reshape(params[:n_hidden * (n_entries + 1)], (n_hidden, (n_entries + 1)))\n",
    "    theta2 = np.reshape(params[n_hidden * (n_entries + 1):], (n_et, (n_hidden + 1)))\n",
    "    return theta1, theta2\n",
    "\n",
    "\n",
    "def RedesNeuronales():\n",
    "    #Leemos el archivo csv\n",
    "    data=pd.read_csv(\"heart.csv\")\n",
    "    #Parseamos las columnas que no tengan enteros a enteros\n",
    "    data.Sex=[1 if each == \"M\" else 0 for each in data.Sex]\n",
    "    data.ExerciseAngina=[1 if each == \"N\" else 0 for each in data.ExerciseAngina]\n",
    "    data.ChestPainType=[0 if each == \"ASY\"  else 1 if each==\"NAP\" else 2  for each in data.ChestPainType]\n",
    "    data.RestingECG=[0 if each == \"Normal\"  else 1 if each==\"LVH\" else 2  for each in data.RestingECG]\n",
    "    data.ST_Slope=[0 if each == \"Flat\"  else 1 if each==\"Up\" else 2  for each in data.ST_Slope]\n",
    "    #guardamos data\n",
    "    valores=data.values\n",
    "    #la columna Y tendra los ataques al corazon\n",
    "    Y=data.HeartDisease.values\n",
    "    #Borramos la columna para asignar a X el resto de columnas\n",
    "    data.drop(['HeartDisease'], axis=1,inplace=True)\n",
    "    X=data.values\n",
    "    \n",
    "    ######\n",
    "    num_entradas = 11\n",
    "    #Las unidades de la capa oculta\n",
    "    num_ocultas = 10\n",
    "    #Las etiquetas de la salida\n",
    "    num_etiquetas = 2\n",
    "\n",
    "    #Creación de casos de entrenamiento aleatorios para las redes neuronales\n",
    "    X_Train, X_test, Y_Train, Y_test = train_test_split(X, Y, test_size=0.33, random_state=42)\n",
    "    Y_Train = np.expand_dims(Y_Train, axis = 1)\n",
    "    \n",
    "    m=len(Y_Train)\n",
    "    #Creación de las etiquetas necesarias\n",
    "    y_onehot = np.zeros((m, num_etiquetas))\n",
    "    for i in range(m):\n",
    "        y_onehot[i][Y_Train[i]] = 1\n",
    "\n",
    "    #Inicializamos theta con pesos aleatorios\n",
    "    theta1 = randomizeThetas(X_Train.shape[1], num_ocultas)\n",
    "    theta2 = randomizeThetas(num_ocultas, num_etiquetas)\n",
    "    thetaVec = np.append(theta1, theta2).reshape(-1)\n",
    "    \n",
    "    #Obtención de las thetas óptimas\n",
    "    result = opt.minimize(fun=backprop, x0=thetaVec, args=(num_entradas, num_ocultas, num_etiquetas, X_Train, y_onehot, 1))\n",
    "    thetas_opt = result.x\n",
    "\n",
    "    #Reestablecemos theta para la evalución de resultados\n",
    "    theta1, theta2 = unroll_thetas(thetas_opt, num_entradas, num_ocultas, num_etiquetas)\n",
    "    pred = evalua(forward_propagate(X_test, theta1, theta2), Y_test)\n",
    "    print(format(pred, '.2f' ),\"%\")\n",
    "    return pred\n",
    "\n",
    "\n",
    "def evalua(results, Y):\n",
    "    numAciertos = 0\n",
    "    for i in range(results.shape[0]):\n",
    "        result = np.argmax(results[i])\n",
    "        if result == Y[i]: numAciertos += 1  \n",
    "    return (numAciertos/(results.shape[0]))*100\n",
    "\n",
    "RedesNeuronales()"
   ]
  },
  {
   "cell_type": "code",
   "execution_count": 48,
   "metadata": {},
   "outputs": [
    {
     "name": "stdout",
     "output_type": "stream",
     "text": [
      "82.61 %\n"
     ]
    },
    {
     "data": {
      "text/plain": [
       "82.6086956521739"
      ]
     },
     "execution_count": 48,
     "metadata": {},
     "output_type": "execute_result"
    }
   ],
   "source": [
    "\n",
    "def SVM():\n",
    "    #Leemos el archivo csv\n",
    "    data=pd.read_csv(\"heart.csv\")\n",
    "    #Parseamos las columnas que no tengan enteros a enteros\n",
    "    data.Sex=[1 if each == \"M\" else 0 for each in data.Sex]\n",
    "    data.ExerciseAngina=[1 if each == \"N\" else 0 for each in data.ExerciseAngina]\n",
    "    data.ChestPainType=[0 if each == \"ASY\"  else 1 if each==\"NAP\" else 2  for each in data.ChestPainType]\n",
    "    data.RestingECG=[0 if each == \"Normal\"  else 1 if each==\"LVH\" else 2  for each in data.RestingECG]\n",
    "    data.ST_Slope=[0 if each == \"Flat\"  else 1 if each==\"Up\" else 2  for each in data.ST_Slope]\n",
    "    #guardamos data\n",
    "    valores=data.values\n",
    "    #la columna Y tendra los ataques al corazon\n",
    "    Y=data.HeartDisease.values\n",
    "    #Borramos la columna para asignar a X el resto de columnas\n",
    "    data.drop(['HeartDisease'], axis=1,inplace=True)\n",
    "    X=data.values\n",
    "\n",
    "    precision=0\n",
    "    numIter = 1\n",
    "    #Parametro de regulalizacion\n",
    "    C_vec = [0.01, 0.03, 0.1, 0.3, 1, 3, 10, 30]\n",
    "    #copiamos sigma\n",
    "    sigma_vec = np.copy(C_vec)\n",
    "\n",
    "    #for con iteraciones  para probar\n",
    "    for x in range(0, numIter):\n",
    "        #variables para guardar los mejores parametros\n",
    "        bestC = 0.01\n",
    "        bestSigma = 0.01\n",
    "        bestScore = -1\n",
    "        #Vamos a separar los ejemplos en 80% para entrenar y un 20% para evaluar\n",
    "        X_new, Xval, y_new, Yval = train_test_split(X, Y, test_size = 0.20,shuffle = True)\n",
    "        #recorremos el vector de seleccion de C y sigma quedandonos con los mejores parametros (C,Sigma,Score)\n",
    "        for c in  C_vec:\n",
    "            for sigma in sigma_vec:\n",
    "                auxKernel = SVC(C = c, kernel = 'rbf', gamma =  1/(2*sigma **2))\n",
    "                auxKernel.fit(X_new, y_new.flatten())\n",
    "                score = auxKernel.score(Xval,Yval)\n",
    "                if (score > bestScore):\n",
    "                    bestC = c\n",
    "                    bestSigma = sigma   \n",
    "                    bestScore = score\n",
    "        #Calculo del SVM\n",
    "        svm = SVC(kernel = 'rbf', C = bestC, gamma = 1 / (2 * bestSigma **2))\n",
    "        #Modelos el svm con X, y en nuestro caso son el 80% de la muestra\n",
    "        svm.fit(X_new, y_new.flatten())\n",
    "        #Calculamos la precision del SVM para un conjunto de prueba, el 20% de la muestra en nuestro caso\n",
    "        precision += test(svm, Xval, Yval)\n",
    "    #imprimimos la media de precicion del numero de iteraciones\n",
    "    print(format((precision / numIter)* 100, '.2f' ),\"%\")\n",
    "    return precision / numIter * 100\n",
    "       \n",
    "    \n",
    "\n",
    "def test(svm, X, Y):\n",
    "    prediction = svm.predict(X)\n",
    "    accuracy = np.mean((prediction == Y).astype(int))\n",
    "    return accuracy\n",
    "\n",
    "SVM()"
   ]
  },
  {
   "cell_type": "code",
   "execution_count": 68,
   "metadata": {},
   "outputs": [
    {
     "name": "stdout",
     "output_type": "stream",
     "text": [
      "Precision Regresion Logistica\n",
      "81.52 %\n",
      "Precision Redes Neuronales\n",
      "83.50 %\n",
      "Precision SVM\n",
      "78.26 %\n"
     ]
    }
   ],
   "source": [
    "print(\"Precision Regresion Logistica\")\n",
    "log=RegresionLogistica()\n",
    "print(\"Precision Redes Neuronales\")\n",
    "red=RedesNeuronales()\n",
    "print(\"Precision SVM\")\n",
    "sv=SVM()\n"
   ]
  },
  {
   "cell_type": "code",
   "execution_count": 72,
   "metadata": {},
   "outputs": [
    {
     "name": "stdout",
     "output_type": "stream",
     "text": [
      "78.26086956521739\n"
     ]
    },
    {
     "data": {
      "image/png": "[encoded data removed]",
      "text/plain": [
       "<Figure size 576x504 with 1 Axes>"
      ]
     },
     "metadata": {
      "needs_background": "light"
     },
     "output_type": "display_data"
    }
   ],
   "source": [
    "\n",
    "xBars = ['Regresion Logistica: ', \n",
    "         'Red Neuronal: ', \n",
    "         'SVM : ']   \n",
    "ancho = 0.8\n",
    "fig, ax = plt.subplots(figsize=(8,7))\n",
    "index = np.arange(len(xBars))\n",
    "print(sv)\n",
    "plt.bar(index, [float(log),float(red),float(sv)], ancho, color='#04B986')\n",
    "plt.xlabel('MACHINE LEARNING MODEL', fontsize=15)\n",
    "plt.ylabel('SUCCESS (%)', fontsize=15)\n",
    "plt.xticks(index, xBars, fontsize=8, rotation=30)\n",
    "plt.title('Comparacion Eficiencia', fontsize=15)\n",
    "plt.ylim((0, 100))\n",
    "plt.savefig('ComparaciondeEficiencia.png')"
   ]
  }
 ],
 "metadata": {
  "interpreter": {
   "hash": "960fd3aa9a5a7e424b6b5fe666967ab786144da29f38373fcb36cafbd5a7905c"
  },
  "kernelspec": {
   "display_name": "Python 3.8.8 64-bit ('base': conda)",
   "language": "python",
   "name": "python3"
  },
  "language_info": {
   "codemirror_mode": {
    "name": "ipython",
    "version": 3
   },
   "file_extension": ".py",
   "mimetype": "text/x-python",
   "name": "python",
   "nbconvert_exporter": "python",
   "pygments_lexer": "ipython3",
   "version": "3.8.8"
  },
  "orig_nbformat": 4
 },
 "nbformat": 4,
 "nbformat_minor": 2
}
