{
 "cells": [
  {
   "cell_type": "code",
   "execution_count": 10,
   "metadata": {},
   "outputs": [],
   "source": [
    "import numpy as np\n",
    "import pandas as pd\n",
    "from pandas.io.parsers import read_csv\n",
    "import matplotlib.pyplot as plt\n",
    "from sklearn.model_selection import train_test_split\n",
    "import scipy.optimize as opt\n",
    "from scipy.optimize import minimize\n",
    "from sklearn.svm import SVC\n"
   ]
  },
  {
   "cell_type": "code",
   "execution_count": 11,
   "metadata": {},
   "outputs": [],
   "source": [
    " #Leemos el archivo csv\n",
    "data=pd.read_csv(\"heart.csv\")\n",
    "#Parseamos las columnas que no tengan enteros a enteros\n",
    "data.Sex=[1 if each == \"M\" else 0 for each in data.Sex]\n",
    "data.ExerciseAngina=[1 if each == \"N\" else 0 for each in data.ExerciseAngina]\n",
    "data.ChestPainType=[0 if each == \"ASY\"  else 1 if each==\"NAP\" else 2  for each in data.ChestPainType]\n",
    "data.RestingECG=[0 if each == \"Normal\"  else 1 if each==\"LVH\" else 2  for each in data.RestingECG]\n",
    "data.ST_Slope=[0 if each == \"Flat\"  else 1 if each==\"Up\" else 2  for each in data.ST_Slope]\n",
    "#guardamos data\n",
    "valores=data.values\n",
    "#la columna Y tendra los ataques al corazon\n",
    "Y=data.HeartDisease.values\n",
    "#Borramos la columna para asignar a X el resto de columnas\n",
    "data.drop(['HeartDisease'], axis=1,inplace=True)\n",
    "X=data.values"
   ]
  },
  {
   "cell_type": "code",
   "execution_count": 151,
   "metadata": {},
   "outputs": [
    {
     "name": "stdout",
     "output_type": "stream",
     "text": [
      "68.48 %\n"
     ]
    },
    {
     "data": {
      "text/plain": [
       "68.47826086956522"
      ]
     },
     "execution_count": 151,
     "metadata": {},
     "output_type": "execute_result"
    }
   ],
   "source": [
    "\n",
    "def sigmoid(x):\n",
    "    s = 1.0 / (1.0 + np.exp(-x))\n",
    "    return s\n",
    "def coste(theta, X, Y,landa):\n",
    "    H = sigmoid(np.matmul(X, theta))\n",
    "    thetaAux=theta[1:]\n",
    "    return (-1/(len(X))) * ( np.dot(Y, np.log(H)) + np.dot(1-Y, np.log(1-H))) + (landa/2*len(X))*sum(thetaAux*thetaAux)\n",
    "def gradiente(theta, X, Y,landa):\n",
    "    H=sigmoid(np.matmul(X, theta))\n",
    "    return (1/len(Y)) * np.matmul((X.T), H-Y) + (landa/len(X))*theta\n",
    "\n",
    "def evalua(thetas, X, y):\n",
    "    thetasMat = np.matrix(thetas)   \n",
    "    z = np.dot(thetasMat,X.transpose())\n",
    "    resultados = sigmoid(z)\n",
    "    resultados[resultados >= 0.5] = 1\n",
    "    resultados[resultados < 0.5] = 0\n",
    "    admitidosPred = sum(np.where(resultados == y)).shape[0]\n",
    "    return (admitidosPred / len(y)) * 100\n",
    "\n",
    "def RegresionLogistica():\n",
    "    #Leemos el archivo csv\n",
    "    data=pd.read_csv(\"heart.csv\")\n",
    "    #Parseamos las columnas que no tengan enteros a enteros\n",
    "    data.Sex=[1 if each == \"M\" else 0 for each in data.Sex]\n",
    "    data.ExerciseAngina=[1 if each == \"N\" else 0 for each in data.ExerciseAngina]\n",
    "    data.ChestPainType=[0 if each == \"ASY\"  else 1 if each==\"NAP\" else 2  for each in data.ChestPainType]\n",
    "    data.RestingECG=[0 if each == \"Normal\"  else 1 if each==\"LVH\" else 2  for each in data.RestingECG]\n",
    "    data.ST_Slope=[0 if each == \"Flat\"  else 1 if each==\"Up\" else 2  for each in data.ST_Slope]\n",
    "    #guardamos data\n",
    "    valores=data.values\n",
    "    #la columna Y tendra los ataques al corazon\n",
    "    Y=data.HeartDisease.values\n",
    "    #Borramos la columna para asignar a X el resto de columnas\n",
    "    data.drop(['HeartDisease'], axis=1,inplace=True)\n",
    "    X=data.values\n",
    "    \n",
    "    landa=1.0\n",
    "    precision = 0.0\n",
    "    #Vamos a separar los ejemplos en 80% para entrenar y un 20% para evaluar  \n",
    "    X =  np.insert (X ,0, 1, axis = 1)\n",
    "    x_train, x_test, y_train, y_test = train_test_split(X,Y,test_size = 0.2,shuffle = True)\n",
    "    theta = np.zeros((X.shape[1],1))\n",
    "    result = opt.fmin_tnc(func=coste,x0=theta ,fprime=gradiente,args =(x_train, y_train,landa))\n",
    "    theta = result[0]\n",
    "       \n",
    "    precision = evalua(theta,x_test,y_test)\n",
    "    print(format((precision), '.2f' ),\"%\")\n",
    "    return precision\n",
    "    \n",
    "RegresionLogistica()"
   ]
  },
  {
   "cell_type": "code",
   "execution_count": 162,
   "metadata": {},
   "outputs": [
    {
     "name": "stdout",
     "output_type": "stream",
     "text": [
      "Hit:  585\n",
      "Miss:  333\n",
      "False Positives:  254\n",
      "False Negatives:  79\n",
      "63.73 %\n"
     ]
    },
    {
     "data": {
      "text/plain": [
       "63.725490196078425"
      ]
     },
     "execution_count": 162,
     "metadata": {},
     "output_type": "execute_result"
    }
   ],
   "source": [
    "\n",
    "def forward_propagate(X, theta1, theta2):\n",
    "    m = X.shape[0]\n",
    "    z2 = np.dot(X, theta1.T)\n",
    "    a2 = np.hstack([np.ones([m, 1]), sigmoid(z2)])\n",
    "    z3 = np.dot(a2, theta2.T)\n",
    "    h = sigmoid(z3)\n",
    "\n",
    "    return X, z2, a2, z3, h\n",
    "def random_thetas(l_in, l_out, range=0.12):\n",
    "    W = np.zeros((l_out, 1 + l_in))\n",
    "    W = np.random.rand(l_out, 1 + l_in) * (2 * range) - range\n",
    "    return W\n",
    "def unroll_thetas(params, n_entries, n_hidden, n_et):\n",
    "    theta1 = np.reshape(params[:n_hidden * (n_entries + 1)], (n_hidden, (n_entries + 1)))\n",
    "    theta2 = np.reshape(params[n_hidden * (n_entries + 1):], (n_et, (n_hidden + 1)))\n",
    "    return theta1, theta2\n",
    "\n",
    "\n",
    "def CosteFun(params_rn, num_entradas, num_ocultas, num_etiquetas, X, Y, reg):\n",
    "    theta1,theta2 = unroll_thetas(params_rn, num_entradas, num_ocultas, num_etiquetas)\n",
    "    a1,z2,a2,z3,h = forward_propagate(X,theta1,theta2)\n",
    "    J = 0\n",
    "    for i in range(len(X)):\n",
    "        J += (-1/(len(X)))*(np.dot(Y[i],np.log(h[i]))+np.dot((1-Y[i]),np.log(1-h[i])))\n",
    "    J += (reg/ (2*len(X))) * ( ( np.sum(np.square(theta1[:,1:]))) + (np.sum(np.square(theta2[:,1:]))) )\n",
    "    return J\n",
    "\n",
    "\n",
    "    \n",
    "def backprop(params_rn,num_entradas,num_ocultas,num_etiquetas,X,y, reg):\n",
    "    #Luego \"deserializamos\" los parametros\n",
    "    m = X.shape[0]\n",
    "    X = np.insert (X ,0, 1, axis = 1)\n",
    "    theta1,theta2 = unroll_thetas(params_rn, num_entradas, num_ocultas, num_etiquetas)\n",
    "    a1,z2,a2,z3,h = forward_propagate(X,theta1,theta2)\n",
    "    cost = CosteFun(params_rn,num_entradas, num_ocultas, num_etiquetas, X, y, reg)\n",
    "    #Claculo de deltas\n",
    "    delta1 = 0\n",
    "    delta2 = 0\n",
    "    for t in range(m):\n",
    "        a1t = a1[t, :] # (1, 401)\n",
    "        a2t = a2[t, :] # (1, 26)\n",
    "        ht = h[t, :] # (1, 10)\n",
    "        yt = y[t] # (1, 10)\n",
    "        d3t = ht - yt # (1, 10)\n",
    "        d2t = np.dot(theta2.T, d3t) * (a2t * (1 - a2t)) # (1, 26)\n",
    "        delta1 = delta1 + np.dot(d2t[1:, np.newaxis], a1t[np.newaxis, :])\n",
    "        delta2 = delta2 + np.dot(d3t[:, np.newaxis], a2t[np.newaxis, :])\n",
    "    delta1 = delta1/m\n",
    "    delta2 = delta2/m\n",
    "    #Gradiente de cada delta\n",
    "    delta1[:,1:] = delta1[:,1:] + (reg *theta1[:,1:]) / m\n",
    "    delta2[:,1:] = delta2[:,1:] + (reg *theta2[:,1:]) / m\n",
    "    #Juntamos los gradientes\n",
    "    gradiente = np.concatenate((np.ravel(delta1),np.ravel(delta2)))\n",
    "    return cost, gradiente\n",
    "\n",
    "\n",
    "def RedesNeuronales():\n",
    "    #Leemos el archivo csv\n",
    "    data=pd.read_csv(\"heart.csv\")\n",
    "    #Parseamos las columnas que no tengan enteros a enteros\n",
    "    data.Sex=[1 if each == \"M\" else 0 for each in data.Sex]\n",
    "    data.ExerciseAngina=[1 if each == \"N\" else 0 for each in data.ExerciseAngina]\n",
    "    data.ChestPainType=[0 if each == \"ASY\"  else 1 if each==\"NAP\" else 2  for each in data.ChestPainType]\n",
    "    data.RestingECG=[0 if each == \"Normal\"  else 1 if each==\"LVH\" else 2  for each in data.RestingECG]\n",
    "    data.ST_Slope=[0 if each == \"Flat\"  else 1 if each==\"Up\" else 2  for each in data.ST_Slope]\n",
    "    #guardamos data\n",
    "    valores=data.values\n",
    "    #la columna Y tendra los ataques al corazon\n",
    "    Y=data.HeartDisease.values\n",
    "    #Borramos la columna para asignar a X el resto de columnas\n",
    "    data.drop(['HeartDisease'], axis=1,inplace=True)\n",
    "    X=data.values\n",
    "    \n",
    "    ######\n",
    "    num_entradas = 11\n",
    "    #Las unidades de la capa oculta\n",
    "    num_ocultas = 40\n",
    "    #Las etiquetas de la salida\n",
    "    num_etiquetas = 2\n",
    "    #Y.reshape(Y.shape[0],1)\n",
    "    m = X.shape[0]\n",
    "    y_onehot = np.zeros((m,num_etiquetas))\n",
    "    for i in range(m):\n",
    "        y_onehot[i][int(Y[i])]= 1\n",
    "       \n",
    "    #Sacamos las matrices de thetas \n",
    "    thetas1 = random_thetas(num_entradas,num_ocultas)\n",
    "    thetas2 = random_thetas(num_ocultas,num_etiquetas)\n",
    "    #Unrolleamos los parametros y los juntamos en el mismo\n",
    "    #EVALUACION\n",
    "    #Buscamos mediante scipy las thetas optimas\n",
    "    result = minimize(fun=backprop, x0=np.append(thetas1,thetas2), args=(num_entradas, num_ocultas,\n",
    "    num_etiquetas, X, y_onehot,1000 ), method = 'TNC', jac = True, options = {'maxiter': 500, 'disp':True})\n",
    "    theta1,theta2 = unroll_thetas(result.x,num_entradas,num_ocultas,num_etiquetas)\n",
    "    #Creamos la NN con las thetas optimizadas\n",
    "    X= np.insert (X ,0, 1, axis = 1)\n",
    "    h = forward_propagate(X,theta1, theta2)[3]\n",
    "    correct = 0\n",
    "    wrong = 0\n",
    "    falsePositive = 0\n",
    "    falseNegative = 0\n",
    "    #Y comparamos la respuesta de la NN con la real\n",
    "    for i in range(len(X)):\n",
    "        maxIndex = np.argmax(h[i])\n",
    "        if(maxIndex == Y[i]):\n",
    "            correct += 1\n",
    "        else:\n",
    "            wrong += 1\n",
    "            if(Y[i] == 1):\n",
    "                falseNegative +=1\n",
    "            else:\n",
    "                falsePositive += 1\n",
    "       \n",
    "    print(\"Hit: \", correct)\n",
    "    print(\"Miss: \", wrong)\n",
    "    print(\"False Positives: \", falsePositive)\n",
    "    print(\"False Negatives: \", falseNegative)\n",
    "    print(format(correct / (correct+wrong) * 100, '.2f' ),\"%\")\n",
    "    return correct / (correct+wrong) * 100\n",
    "    \n",
    "RedesNeuronales()"
   ]
  },
  {
   "cell_type": "code",
   "execution_count": 14,
   "metadata": {},
   "outputs": [
    {
     "name": "stdout",
     "output_type": "stream",
     "text": [
      "76.63 %\n"
     ]
    },
    {
     "data": {
      "text/plain": [
       "76.63043478260869"
      ]
     },
     "execution_count": 14,
     "metadata": {},
     "output_type": "execute_result"
    }
   ],
   "source": [
    "\n",
    "def SVM():\n",
    "    #Leemos el archivo csv\n",
    "    data=pd.read_csv(\"heart.csv\")\n",
    "    #Parseamos las columnas que no tengan enteros a enteros\n",
    "    data.Sex=[1 if each == \"M\" else 0 for each in data.Sex]\n",
    "    data.ExerciseAngina=[1 if each == \"N\" else 0 for each in data.ExerciseAngina]\n",
    "    data.ChestPainType=[0 if each == \"ASY\"  else 1 if each==\"NAP\" else 2  for each in data.ChestPainType]\n",
    "    data.RestingECG=[0 if each == \"Normal\"  else 1 if each==\"LVH\" else 2  for each in data.RestingECG]\n",
    "    data.ST_Slope=[0 if each == \"Flat\"  else 1 if each==\"Up\" else 2  for each in data.ST_Slope]\n",
    "    #guardamos data\n",
    "    valores=data.values\n",
    "    #la columna Y tendra los ataques al corazon\n",
    "    Y=data.HeartDisease.values\n",
    "    #Borramos la columna para asignar a X el resto de columnas\n",
    "    data.drop(['HeartDisease'], axis=1,inplace=True)\n",
    "    X=data.values\n",
    "\n",
    "    precision=0\n",
    "    numIter = 1\n",
    "    #Parametro de regulalizacion\n",
    "    C_vec = [0.01, 0.03, 0.1, 0.3, 1, 3, 10, 30]\n",
    "    #copiamos sigma\n",
    "    sigma_vec = np.copy(C_vec)\n",
    "\n",
    "    #for con iteraciones  para probar\n",
    "    for x in range(0, numIter):\n",
    "        #variables para guardar los mejores parametros\n",
    "        bestC = 0.01\n",
    "        bestSigma = 0.01\n",
    "        bestScore = -1\n",
    "        #Vamos a separar los ejemplos en 80% para entrenar y un 20% para evaluar\n",
    "        X_new, Xval, y_new, Yval = train_test_split(X, Y, test_size = 0.20,shuffle = True)\n",
    "        #recorremos el vector de seleccion de C y sigma quedandonos con los mejores parametros (C,Sigma,Score)\n",
    "        for c in  C_vec:\n",
    "            for sigma in sigma_vec:\n",
    "                auxKernel = SVC(C = c, kernel = 'rbf', gamma =  1/(2*sigma **2))\n",
    "                auxKernel.fit(X_new, y_new.flatten())\n",
    "                score = auxKernel.score(Xval,Yval)\n",
    "                if (score > bestScore):\n",
    "                    bestC = c\n",
    "                    bestSigma = sigma   \n",
    "                    bestScore = score\n",
    "        #Calculo del SVM\n",
    "        svm = SVC(kernel = 'rbf', C = bestC, gamma = 1 / (2 * bestSigma **2))\n",
    "        #Modelos el svm con X, y en nuestro caso son el 80% de la muestra\n",
    "        svm.fit(X_new, y_new.flatten())\n",
    "        #Calculamos la precision del SVM para un conjunto de prueba, el 20% de la muestra en nuestro caso\n",
    "        precision += test(svm, Xval, Yval)\n",
    "    #imprimimos la media de precicion del numero de iteraciones\n",
    "    print(format((precision / numIter)* 100, '.2f' ),\"%\")\n",
    "    return precision / numIter * 100\n",
    "       \n",
    "    \n",
    "\n",
    "def test(svm, X, Y):\n",
    "    prediction = svm.predict(X)\n",
    "    accuracy = np.mean((prediction == Y).astype(int))\n",
    "    return accuracy\n",
    "\n",
    "SVM()"
   ]
  },
  {
   "cell_type": "code",
   "execution_count": 15,
   "metadata": {},
   "outputs": [
    {
     "name": "stdout",
     "output_type": "stream",
     "text": [
      "Precision Regresion Logistica\n",
      "82.17 %\n",
      "Precision Redes Neuronales\n",
      "63.73 %\n",
      "Precision SVM\n",
      "76.63 %\n"
     ]
    }
   ],
   "source": [
    "print(\"Precision Regresion Logistica\")\n",
    "log=RegresionLogistica()\n",
    "print(\"Precision Redes Neuronales\")\n",
    "red=RedesNeuronales()\n",
    "print(\"Precision SVM\")\n",
    "sv=SVM()\n",
    "\n"
   ]
  },
  {
   "cell_type": "code",
   "execution_count": 16,
   "metadata": {},
   "outputs": [
    {
     "name": "stdout",
     "output_type": "stream",
     "text": [
      "76.63043478260869\n"
     ]
    },
    {
     "data": {
      "image/png": "[encoded data removed]",
      "text/plain": [
       "<Figure size 576x504 with 1 Axes>"
      ]
     },
     "metadata": {
      "needs_background": "light"
     },
     "output_type": "display_data"
    }
   ],
   "source": [
    "\n",
    "xBars = ['Regresion Logistica: ', \n",
    "         'Red Neuronal: ', \n",
    "         'SVM : ']   \n",
    "ancho = 0.8\n",
    "fig, ax = plt.subplots(figsize=(8,7))\n",
    "index = np.arange(len(xBars))\n",
    "print(sv)\n",
    "plt.bar(index, [float(log),float(red),float(sv)], ancho, color='#04B986')\n",
    "plt.xlabel('MACHINE LEARNING MODEL', fontsize=15)\n",
    "plt.ylabel('SUCCESS (%)', fontsize=15)\n",
    "plt.xticks(index, xBars, fontsize=8, rotation=30)\n",
    "plt.title('Comparacion Eficiencia', fontsize=15)\n",
    "plt.ylim((0, 100))\n",
    "plt.savefig('ComparaciondeEficiencia.png')"
   ]
  }
 ],
 "metadata": {
  "interpreter": {
   "hash": "960fd3aa9a5a7e424b6b5fe666967ab786144da29f38373fcb36cafbd5a7905c"
  },
  "kernelspec": {
   "display_name": "Python 3.8.8 64-bit ('base': conda)",
   "language": "python",
   "name": "python3"
  },
  "language_info": {
   "codemirror_mode": {
    "name": "ipython",
    "version": 3
   },
   "file_extension": ".py",
   "mimetype": "text/x-python",
   "name": "python",
   "nbconvert_exporter": "python",
   "pygments_lexer": "ipython3",
   "version": "3.8.8"
  },
  "orig_nbformat": 4
 },
 "nbformat": 4,
 "nbformat_minor": 2
}
